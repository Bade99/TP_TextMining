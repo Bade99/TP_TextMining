{
 "cells": [
  {
   "cell_type": "code",
   "execution_count": 62,
   "metadata": {},
   "outputs": [],
   "source": [
    "import nltk\n",
    "from nltk.tokenize import word_tokenize\n",
    "import nltk.stem\n",
    "from nltk.corpus import stopwords\n",
    "import pandas as pd\n",
    "import spacy\n",
    "from spacy.lang.es.examples import sentences \n",
    "from es_lemmatizer import lemmatize\n",
    "from nltk.tokenize import sent_tokenize"
   ]
  },
  {
   "cell_type": "code",
   "execution_count": 41,
   "metadata": {},
   "outputs": [],
   "source": [
    "texto1 = 'A comienzos de los años ochenta surgieron los primeros esfuerzos de minería de textos que necesitaban una gran cantidad de esfuerzo humano, pero los avances tecnológicos han permitido que esta área progrese de manera rápida en la última década. La minería de textos es un área multidisciplinar basada en la recuperación de información, minería de datos, aprendizaje automático, estadísticas y la lingüística computacional.1​ Como la mayor parte de la información (más de un 80%) se encuentra actualmente almacenada como texto, se cree que la minería de textos tiene un gran valor comercial. Se le presta cada vez un mayor interés a la minería de textos multilingual: la habilidad de ganar información en otros idiomas.'"
   ]
  },
  {
   "cell_type": "code",
   "execution_count": 76,
   "metadata": {},
   "outputs": [],
   "source": [
    "def StopWords(text):\n",
    "    tokens = word_tokenize(text)\n",
    "    filteredText = [w for w in tokens if not w in stopwords.words('spanish')]\n",
    "    filteredSentence = \"\"\n",
    "    for i in filteredText:\n",
    "        filteredSentence += i + \" \"\n",
    "    \n",
    "    return filteredSentence"
   ]
  },
  {
   "cell_type": "code",
   "execution_count": 54,
   "metadata": {},
   "outputs": [],
   "source": [
    "def LemmatizeText(text):\n",
    "    lemmatizer = spacy.load('es')\n",
    "    lemmatizedTokens = lemmatizer(texto1)\n",
    "    lemmatizedText =  \" \".join([token.lemma_ for token in lemmatizedTokens])\n",
    "    return lemmatizedText\n",
    "    \n",
    "    "
   ]
  },
  {
   "cell_type": "code",
   "execution_count": 66,
   "metadata": {},
   "outputs": [],
   "source": [
    "def TokenizeText(text):\n",
    "    tokens = sent_tokenize(text)\n",
    "    return tokens"
   ]
  },
  {
   "cell_type": "code",
   "execution_count": 154,
   "metadata": {},
   "outputs": [],
   "source": [
    "def PreprocessText(text): \n",
    "    \n",
    "    texto = StopWords(LemmatizeText(text))\n",
    "    return texto"
   ]
  },
  {
   "cell_type": "code",
   "execution_count": 185,
   "metadata": {},
   "outputs": [],
   "source": [
    "def JaccardSimilarity(str1, str2):\n",
    "    if len(str1) > 0 & len(str2) > 0:\n",
    "        a = set(str1.split()) \n",
    "        b = set(str2.split())\n",
    "        c = a.intersection(b)\n",
    "        return float(len(c)) / (len(a) + len(b) - len(c))\n",
    "    else:\n",
    "        return 0"
   ]
  },
  {
   "cell_type": "code",
   "execution_count": 188,
   "metadata": {},
   "outputs": [],
   "source": [
    "def ProcessText(text,textosGuardados):\n",
    "   PreprocessedText = PreprocessText(text)\n",
    "   oracionesRepetidas = []\n",
    "   for x in PreprocessedText:\n",
    "    if x in textosGuardados:\n",
    "        oracionesRepetidas.append(x)\n",
    "    else:\n",
    "        for y in textosGuardados:\n",
    "            if JaccardSimilarity(x,y) > 0.6:\n",
    "             oracionesRepetidas.append(x)\n",
    "   return oracionesRepetidas\n",
    "\n",
    "        \n",
    "        \n"
   ]
  },
  {
   "cell_type": "code",
   "execution_count": 195,
   "metadata": {},
   "outputs": [],
   "source": [
    "def PorcentajeOracionesRepetidas(texto,oraciones):\n",
    "    PreprocessedText = PreprocessText(texto)\n",
    "    TotalOraciones = len(PreprocessedText)\n",
    "    porcentaje = 100*len(oraciones)/TotalOraciones\n",
    "    print(porcentaje)\n",
    "    return porcentaje\n",
    "    "
   ]
  },
  {
   "cell_type": "code",
   "execution_count": 196,
   "metadata": {},
   "outputs": [
    {
     "name": "stdout",
     "output_type": "stream",
     "text": [
      "['A comienzo año ochenta surgir primero esfuerzo minería texto necesitar gran cantidad esforzar humanar , avanzar tecnológico haber permitir área progresar manera rápido último década .', 'La minería texto ser área multidisciplinar basar recuperación información , minería dato , aprendizaje automático , estadístico lingüístico computacional.1\\u200b Como mayor partir información ( 80 % ) encontrar actualmente almacenar comer texto , creer minería texto tener gran valor comercial .', 'Se presto cada vez mayor interés minería texto multilingual : habilidad ganar información idioma .']\n",
      "100.0\n"
     ]
    },
    {
     "data": {
      "text/plain": [
       "100.0"
      ]
     },
     "execution_count": 196,
     "metadata": {},
     "output_type": "execute_result"
    }
   ],
   "source": [
    "txt = PreprocessText(texto1)\n",
    "tex = ProcessText(texto1,txt)\n",
    "print(tex)\n",
    "PorcentajeOracionesRepetidas(texto1,tex)"
   ]
  },
  {
   "cell_type": "code",
   "execution_count": null,
   "metadata": {},
   "outputs": [],
   "source": []
  },
  {
   "cell_type": "code",
   "execution_count": null,
   "metadata": {},
   "outputs": [],
   "source": []
  },
  {
   "cell_type": "code",
   "execution_count": null,
   "metadata": {},
   "outputs": [],
   "source": []
  },
  {
   "cell_type": "code",
   "execution_count": null,
   "metadata": {},
   "outputs": [],
   "source": []
  },
  {
   "cell_type": "code",
   "execution_count": null,
   "metadata": {},
   "outputs": [],
   "source": []
  },
  {
   "cell_type": "code",
   "execution_count": null,
   "metadata": {},
   "outputs": [],
   "source": []
  },
  {
   "cell_type": "code",
   "execution_count": null,
   "metadata": {},
   "outputs": [],
   "source": []
  },
  {
   "cell_type": "code",
   "execution_count": null,
   "metadata": {},
   "outputs": [],
   "source": []
  },
  {
   "cell_type": "code",
   "execution_count": null,
   "metadata": {},
   "outputs": [],
   "source": []
  },
  {
   "cell_type": "code",
   "execution_count": null,
   "metadata": {},
   "outputs": [],
   "source": []
  },
  {
   "cell_type": "code",
   "execution_count": null,
   "metadata": {},
   "outputs": [],
   "source": []
  }
 ],
 "metadata": {
  "kernelspec": {
   "display_name": "Python 3",
   "language": "python",
   "name": "python3"
  },
  "language_info": {
   "codemirror_mode": {
    "name": "ipython",
    "version": 3
   },
   "file_extension": ".py",
   "mimetype": "text/x-python",
   "name": "python",
   "nbconvert_exporter": "python",
   "pygments_lexer": "ipython3",
   "version": "3.7.4"
  }
 },
 "nbformat": 4,
 "nbformat_minor": 2
}
